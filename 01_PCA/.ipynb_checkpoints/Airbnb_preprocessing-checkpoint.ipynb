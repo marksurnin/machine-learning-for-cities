{
 "cells": [
  {
   "cell_type": "code",
   "execution_count": 120,
   "metadata": {
    "collapsed": false
   },
   "outputs": [],
   "source": [
    "import csv\n",
    "import pandas as pd\n",
    "import numpy as np\n",
    "import matplotlib\n",
    "import matplotlib.pyplot as plt\n",
    "import seaborn as sns\n",
    "from sklearn.decomposition import PCA\n",
    "from sklearn import linear_model"
   ]
  },
  {
   "cell_type": "code",
   "execution_count": null,
   "metadata": {
    "collapsed": true
   },
   "outputs": [],
   "source": []
  },
  {
   "cell_type": "code",
   "execution_count": 103,
   "metadata": {
    "collapsed": false
   },
   "outputs": [
    {
     "data": {
      "text/html": [
       "<div>\n",
       "<table border=\"1\" class=\"dataframe\">\n",
       "  <thead>\n",
       "    <tr style=\"text-align: right;\">\n",
       "      <th></th>\n",
       "      <th>host_response_rate</th>\n",
       "      <th>host_is_superhost</th>\n",
       "      <th>smart_location</th>\n",
       "      <th>latitude</th>\n",
       "      <th>longitude</th>\n",
       "      <th>property_type</th>\n",
       "      <th>room_type</th>\n",
       "      <th>accommodates</th>\n",
       "      <th>bathrooms</th>\n",
       "      <th>bedrooms</th>\n",
       "      <th>...</th>\n",
       "      <th>review_scores_accuracy</th>\n",
       "      <th>review_scores_cleanliness</th>\n",
       "      <th>review_scores_checkin</th>\n",
       "      <th>review_scores_communication</th>\n",
       "      <th>review_scores_location</th>\n",
       "      <th>review_scores_value</th>\n",
       "      <th>instant_bookable</th>\n",
       "      <th>cancellation_policy</th>\n",
       "      <th>calculated_host_listings_count</th>\n",
       "      <th>reviews_per_month</th>\n",
       "    </tr>\n",
       "  </thead>\n",
       "  <tbody>\n",
       "    <tr>\n",
       "      <th>2</th>\n",
       "      <td>100%</td>\n",
       "      <td>f</td>\n",
       "      <td>Queens, NY</td>\n",
       "      <td>40.742824</td>\n",
       "      <td>-73.949939</td>\n",
       "      <td>Apartment</td>\n",
       "      <td>Private room</td>\n",
       "      <td>2</td>\n",
       "      <td>1.0</td>\n",
       "      <td>1.0</td>\n",
       "      <td>...</td>\n",
       "      <td>10.0</td>\n",
       "      <td>9.0</td>\n",
       "      <td>10.0</td>\n",
       "      <td>10.0</td>\n",
       "      <td>9.0</td>\n",
       "      <td>9.0</td>\n",
       "      <td>f</td>\n",
       "      <td>flexible</td>\n",
       "      <td>1</td>\n",
       "      <td>1.81</td>\n",
       "    </tr>\n",
       "    <tr>\n",
       "      <th>3</th>\n",
       "      <td>NaN</td>\n",
       "      <td>f</td>\n",
       "      <td>New York, NY</td>\n",
       "      <td>40.799973</td>\n",
       "      <td>-73.965293</td>\n",
       "      <td>House</td>\n",
       "      <td>Shared room</td>\n",
       "      <td>2</td>\n",
       "      <td>1.0</td>\n",
       "      <td>1.0</td>\n",
       "      <td>...</td>\n",
       "      <td>NaN</td>\n",
       "      <td>NaN</td>\n",
       "      <td>NaN</td>\n",
       "      <td>NaN</td>\n",
       "      <td>NaN</td>\n",
       "      <td>NaN</td>\n",
       "      <td>f</td>\n",
       "      <td>moderate</td>\n",
       "      <td>1</td>\n",
       "      <td>NaN</td>\n",
       "    </tr>\n",
       "    <tr>\n",
       "      <th>4</th>\n",
       "      <td>100%</td>\n",
       "      <td>f</td>\n",
       "      <td>New York, NY</td>\n",
       "      <td>40.735916</td>\n",
       "      <td>-73.986296</td>\n",
       "      <td>Apartment</td>\n",
       "      <td>Entire home/apt</td>\n",
       "      <td>4</td>\n",
       "      <td>1.0</td>\n",
       "      <td>1.0</td>\n",
       "      <td>...</td>\n",
       "      <td>10.0</td>\n",
       "      <td>10.0</td>\n",
       "      <td>10.0</td>\n",
       "      <td>10.0</td>\n",
       "      <td>10.0</td>\n",
       "      <td>10.0</td>\n",
       "      <td>f</td>\n",
       "      <td>flexible</td>\n",
       "      <td>1</td>\n",
       "      <td>1.00</td>\n",
       "    </tr>\n",
       "    <tr>\n",
       "      <th>5</th>\n",
       "      <td>NaN</td>\n",
       "      <td>f</td>\n",
       "      <td>Queens, NY</td>\n",
       "      <td>40.741264</td>\n",
       "      <td>-73.925798</td>\n",
       "      <td>Apartment</td>\n",
       "      <td>Private room</td>\n",
       "      <td>1</td>\n",
       "      <td>1.0</td>\n",
       "      <td>1.0</td>\n",
       "      <td>...</td>\n",
       "      <td>NaN</td>\n",
       "      <td>NaN</td>\n",
       "      <td>NaN</td>\n",
       "      <td>NaN</td>\n",
       "      <td>NaN</td>\n",
       "      <td>NaN</td>\n",
       "      <td>f</td>\n",
       "      <td>moderate</td>\n",
       "      <td>1</td>\n",
       "      <td>NaN</td>\n",
       "    </tr>\n",
       "    <tr>\n",
       "      <th>17</th>\n",
       "      <td>NaN</td>\n",
       "      <td>f</td>\n",
       "      <td>Brooklyn, NY</td>\n",
       "      <td>40.733913</td>\n",
       "      <td>-73.956788</td>\n",
       "      <td>Apartment</td>\n",
       "      <td>Entire home/apt</td>\n",
       "      <td>4</td>\n",
       "      <td>1.0</td>\n",
       "      <td>1.0</td>\n",
       "      <td>...</td>\n",
       "      <td>NaN</td>\n",
       "      <td>NaN</td>\n",
       "      <td>NaN</td>\n",
       "      <td>NaN</td>\n",
       "      <td>NaN</td>\n",
       "      <td>NaN</td>\n",
       "      <td>f</td>\n",
       "      <td>flexible</td>\n",
       "      <td>1</td>\n",
       "      <td>NaN</td>\n",
       "    </tr>\n",
       "  </tbody>\n",
       "</table>\n",
       "<p>5 rows × 29 columns</p>\n",
       "</div>"
      ],
      "text/plain": [
       "   host_response_rate host_is_superhost smart_location   latitude  longitude  \\\n",
       "2                100%                 f     Queens, NY  40.742824 -73.949939   \n",
       "3                 NaN                 f   New York, NY  40.799973 -73.965293   \n",
       "4                100%                 f   New York, NY  40.735916 -73.986296   \n",
       "5                 NaN                 f     Queens, NY  40.741264 -73.925798   \n",
       "17                NaN                 f   Brooklyn, NY  40.733913 -73.956788   \n",
       "\n",
       "   property_type        room_type  accommodates  bathrooms  bedrooms  \\\n",
       "2      Apartment     Private room             2        1.0       1.0   \n",
       "3          House      Shared room             2        1.0       1.0   \n",
       "4      Apartment  Entire home/apt             4        1.0       1.0   \n",
       "5      Apartment     Private room             1        1.0       1.0   \n",
       "17     Apartment  Entire home/apt             4        1.0       1.0   \n",
       "\n",
       "          ...          review_scores_accuracy review_scores_cleanliness  \\\n",
       "2         ...                            10.0                       9.0   \n",
       "3         ...                             NaN                       NaN   \n",
       "4         ...                            10.0                      10.0   \n",
       "5         ...                             NaN                       NaN   \n",
       "17        ...                             NaN                       NaN   \n",
       "\n",
       "    review_scores_checkin review_scores_communication  review_scores_location  \\\n",
       "2                    10.0                        10.0                     9.0   \n",
       "3                     NaN                         NaN                     NaN   \n",
       "4                    10.0                        10.0                    10.0   \n",
       "5                     NaN                         NaN                     NaN   \n",
       "17                    NaN                         NaN                     NaN   \n",
       "\n",
       "    review_scores_value  instant_bookable  cancellation_policy  \\\n",
       "2                   9.0                 f             flexible   \n",
       "3                   NaN                 f             moderate   \n",
       "4                  10.0                 f             flexible   \n",
       "5                   NaN                 f             moderate   \n",
       "17                  NaN                 f             flexible   \n",
       "\n",
       "    calculated_host_listings_count  reviews_per_month  \n",
       "2                                1               1.81  \n",
       "3                                1                NaN  \n",
       "4                                1               1.00  \n",
       "5                                1                NaN  \n",
       "17                               1                NaN  \n",
       "\n",
       "[5 rows x 29 columns]"
      ]
     },
     "execution_count": 103,
     "metadata": {},
     "output_type": "execute_result"
    }
   ],
   "source": [
    "fields = ['host_response_rate', 'host_is_superhost', 'smart_location', 'latitude', 'longitude', 'property_type', 'room_type', 'accommodates', 'bathrooms', 'bedrooms', 'beds', 'bed_type', 'square_feet', 'guests_included', 'minimum_nights', 'maximum_nights', 'number_of_reviews','review_scores_rating','review_scores_accuracy','review_scores_cleanliness','review_scores_checkin','review_scores_communication','review_scores_location','review_scores_value','instant_bookable','cancellation_policy','calculated_host_listings_count','reviews_per_month','price']\n",
    "\n",
    "data = pd.read_csv('./airbnb_nyc_listings.csv', usecols = fields)\n",
    "train = data.sample(frac = 0.80, random_state = 200)\n",
    "test = data.drop(train.index)\n",
    "test.head()"
   ]
  },
  {
   "cell_type": "code",
   "execution_count": 115,
   "metadata": {
    "collapsed": false,
    "scrolled": true
   },
   "outputs": [],
   "source": [
    "# we don't need the price right now\n",
    "indexOfPrice = train.columns.get_loc('price')\n",
    "all_data = pd.concat((train.iloc[:,-indexOfPrice],\n",
    "                      test.iloc[:,-indexOfPrice]))\n"
   ]
  },
  {
   "cell_type": "code",
   "execution_count": 128,
   "metadata": {
    "collapsed": false
   },
   "outputs": [
    {
     "data": {
      "text/plain": [
       "array(['$66.00', '$225.00', '$220.00', '$130.00', '$250.00', '$115.00',\n",
       "       '$90.00', '$199.00', '$325.00', '$72.00', '$175.00', '$150.00',\n",
       "       '$100.00', '$169.00', '$62.00', '$44.00', '$70.00', '$339.00',\n",
       "       '$110.00', '$37.00', '$229.00', '$178.00', '$69.00', '$209.00',\n",
       "       '$600.00', '$89.00', '$112.00', '$79.00', '$49.00', '$35.00',\n",
       "       '$125.00', '$85.00', '$190.00', '$300.00', '$80.00', '$59.00',\n",
       "       '$52.00', '$34.00', '$75.00', '$68.00', '$95.00', '$180.00',\n",
       "       '$350.00', '$99.00', '$450.00', '$200.00', '$160.00', '$120.00',\n",
       "       '$525.00', '$750.00', '$140.00', '$650.00', '$88.00', '$50.00',\n",
       "       '$94.00', '$575.00', '$270.00', '$499.00', '$64.00', '$299.00',\n",
       "       '$135.00', '$65.00', '$195.00', '$84.00', '$40.00', '$93.00',\n",
       "       '$145.00', '$45.00', '$46.00', '$38.00', '$165.00', '$138.00',\n",
       "       '$48.00', '$356.00', '$179.00', '$55.00', '$129.00', '$245.00',\n",
       "       '$174.00', '$77.00', '$210.00', '$449.00', '$142.00', '$74.00',\n",
       "       '$149.00', '$159.00', '$41.00', '$479.00', '$47.00', '$475.00',\n",
       "       '$800.00', '$500.00', '$218.00', '$139.00', '$116.00', '$60.00',\n",
       "       '$124.00', '$42.00', '$254.00', '$105.00', '$30.00', '$700.00',\n",
       "       '$32.00', '$109.00', '$87.00', '$154.00', '$57.00', '$170.00',\n",
       "       '$101.00', '$119.00', '$23.00', '$56.00', '$189.00', '$54.00',\n",
       "       '$275.00', '$27.00', '$400.00', '$395.00', '$230.00', '$202.00',\n",
       "       '$320.00', '$25.00', '$549.00', '$148.00', '$83.00', '$262.00',\n",
       "       '$295.00', '$265.00', '$96.00', '$67.00', '$58.00', '$345.00',\n",
       "       '$280.00', '$298.00', '$185.00', '$385.00', '$98.00', '$164.00',\n",
       "       '$61.00', '$78.00', '$308.00', '$399.00', '$36.00', '$198.00',\n",
       "       '$144.00', '$269.00', '$289.00', '$550.00', '$666.00', '$249.00',\n",
       "       '$102.00', '$82.00', '$141.00', '$143.00', '$114.00', '$390.00',\n",
       "       '$117.00', '$155.00', '$91.00', '$134.00', '$197.00', '$33.00',\n",
       "       '$206.00', '$235.00', '$151.00', '$215.00', '$240.00', '$28.00',\n",
       "       '$158.00', '$219.00', '$73.00', '$81.00', '$205.00', '$187.00',\n",
       "       '$359.00', '$132.00', '$63.00', '$121.00', '$207.00', '$850.00',\n",
       "       '$335.00', '$1,600.00', '$599.00', '$375.00', '$369.00', '$86.00',\n",
       "       '$290.00', '$137.00', '$19.00', '$104.00', '$291.00', '$1,000.00',\n",
       "       '$53.00', '$1,200.00', '$259.00', '$260.00', '$51.00', '$22.00',\n",
       "       '$285.00', '$340.00', '$732.00', '$39.00', '$373.00', '$106.00',\n",
       "       '$595.00', '$360.00', '$495.00', '$288.00', '$590.00', '$163.00',\n",
       "       '$224.00', '$380.00', '$26.00', '$329.00', '$128.00', '$236.00',\n",
       "       '$391.00', '$201.00', '$76.00', '$307.00', '$349.00', '$1,500.00',\n",
       "       '$43.00', '$126.00', '$20.00', '$565.00', '$999.00', '$113.00',\n",
       "       '$430.00', '$2,000.00', '$1,099.00', '$29.00', '$326.00', '$24.00',\n",
       "       '$309.00', '$103.00', '$276.00', '$127.00', '$31.00', '$152.00',\n",
       "       '$108.00', '$287.00', '$440.00', '$182.00', '$123.00', '$188.00',\n",
       "       '$305.00', '$192.00', '$111.00', '$330.00', '$279.00', '$226.00',\n",
       "       '$820.00', '$393.00', '$266.00', '$156.00', '$172.00', '$237.00',\n",
       "       '$239.00', '$455.00', '$131.00', '$118.00', '$611.00', '$625.00',\n",
       "       '$5,999.00', '$294.00', '$107.00', '$408.00', '$447.00', '$153.00',\n",
       "       '$71.00', '$1,195.00', '$560.00', '$1,100.00', '$1,700.00',\n",
       "       '$176.00', '$749.00', '$510.00', '$950.00', '$267.00', '$14.00',\n",
       "       '$321.00', '$181.00', '$490.00', '$183.00', '$6,000.00', '$214.00',\n",
       "       '$438.00', '$420.00', '$133.00', '$232.00', '$273.00', '$415.00',\n",
       "       '$1,089.00', '$157.00', '$328.00', '$900.00', '$1,400.00', '$97.00',\n",
       "       '$184.00', '$122.00', '$453.00', '$92.00', '$234.00', '$147.00',\n",
       "       '$333.00', '$177.00', '$272.00', '$314.00', '$1,395.00', '$602.00',\n",
       "       '$394.00', '$580.00', '$167.00', '$786.00', '$485.00', '$425.00',\n",
       "       '$422.00', '$9,900.00', '$379.00', '$480.00', '$171.00', '$686.00',\n",
       "       '$161.00', '$319.00', '$803.00', '$203.00', '$410.00', '$899.00',\n",
       "       '$168.00', '$725.00', '$1,350.00', '$263.00', '$459.00', '$780.00',\n",
       "       '$136.00', '$721.00', '$389.00', '$10.00', '$445.00', '$925.00',\n",
       "       '$3,000.00', '$405.00', '$392.00', '$146.00', '$569.00', '$216.00',\n",
       "       '$217.00', '$228.00', '$21.00', '$212.00', '$348.00', '$460.00',\n",
       "       '$255.00', '$867.00', '$545.00', '$324.00', '$769.00', '$17.00',\n",
       "       '$248.00', '$699.00', '$419.00', '$675.00', '$244.00', '$186.00',\n",
       "       '$378.00', '$221.00', '$875.00', '$268.00', '$364.00', '$196.00',\n",
       "       '$213.00', '$242.00', '$166.00', '$162.00', '$790.00', '$278.00',\n",
       "       '$1,175.00', '$1,225.00', '$386.00', '$372.00', '$223.00',\n",
       "       '$258.00', '$358.00', '$282.00', '$315.00', '$1,259.00', '$302.00',\n",
       "       '$332.00', '$975.00', '$15.00', '$496.00', '$310.00', '$193.00',\n",
       "       '$3,500.00', '$533.00', '$789.00', '$402.00', '$639.00', '$351.00',\n",
       "       '$492.00', '$365.00', '$403.00', '$211.00', '$194.00', '$274.00',\n",
       "       '$398.00', '$9,998.00', '$227.00', '$1,050.00', '$2,800.00',\n",
       "       '$465.00', '$544.00', '$261.00', '$1,300.00', '$173.00', '$645.00',\n",
       "       '$414.00', '$284.00', '$705.00', '$568.00', '$439.00', '$825.00',\n",
       "       '$316.00', '$253.00', '$222.00', '$306.00', '$1,999.00', '$515.00',\n",
       "       '$477.00', '$1,150.00', '$344.00', '$871.00', '$442.00', '$649.00',\n",
       "       '$1,650.00', '$257.00', '$264.00', '$271.00', '$429.00',\n",
       "       '$1,125.00', '$2,500.00', '$1,250.00', '$443.00', '$342.00',\n",
       "       '$297.00', '$238.00', '$1,003.00', '$304.00', '$1,018.00',\n",
       "       '$3,750.00', '$985.00', '$208.00', '$685.00', '$2,100.00',\n",
       "       '$204.00', '$1,270.00', '$888.00', '$452.00', '$1,120.00',\n",
       "       '$388.00', '$651.00', '$1,495.00', '$799.00', '$559.00', '$695.00',\n",
       "       '$251.00', '$346.00', '$990.00', '$532.00', '$740.00', '$252.00',\n",
       "       '$435.00', '$6,500.00', '$374.00', '$497.00', '$690.00',\n",
       "       '$3,400.00', '$18.00', '$446.00', '$246.00', '$1,080.00', '$406.00',\n",
       "       '$191.00', '$412.00', '$1,035.00', '$5,000.00', '$396.00',\n",
       "       '$437.00', '$1,450.00', '$4,500.00', '$775.00', '$680.00',\n",
       "       '$6,200.00', '$370.00', '$434.00', '$9,999.00', '$995.00',\n",
       "       '$1,499.00', '$283.00', '$860.00', '$8,000.00', '$424.00',\n",
       "       '$469.00', '$1,258.00', '$795.00', '$540.00', '$555.00', '$355.00',\n",
       "       '$368.00', '$895.00', '$352.00', '$754.00', '$432.00', '$4,700.00',\n",
       "       '$2,200.00', '$3,300.00', '$976.00', '$853.00', '$301.00',\n",
       "       '$233.00', '$353.00', '$1,550.00', '$589.00', '$777.00', '$468.00',\n",
       "       '$357.00', '$735.00', '$693.00', '$491.00', '$312.00', '$498.00',\n",
       "       '$980.00', '$785.00', '$1,800.00', '$9,000.00', '$2,222.00',\n",
       "       '$1,490.00', '$530.00', '$935.00', '$428.00', '$327.00'], dtype=object)"
      ]
     },
     "execution_count": 128,
     "metadata": {},
     "output_type": "execute_result"
    }
   ],
   "source": [
    "train['price'].replace('[\\$,]', '', regex=True).astype(float)\n",
    "train['price'].describe();"
   ]
  },
  {
   "cell_type": "code",
   "execution_count": null,
   "metadata": {
    "collapsed": true
   },
   "outputs": [],
   "source": []
  },
  {
   "cell_type": "code",
   "execution_count": null,
   "metadata": {
    "collapsed": true
   },
   "outputs": [],
   "source": []
  },
  {
   "cell_type": "code",
   "execution_count": null,
   "metadata": {
    "collapsed": true
   },
   "outputs": [],
   "source": []
  },
  {
   "cell_type": "code",
   "execution_count": null,
   "metadata": {
    "collapsed": true
   },
   "outputs": [],
   "source": []
  },
  {
   "cell_type": "code",
   "execution_count": null,
   "metadata": {
    "collapsed": true
   },
   "outputs": [],
   "source": []
  },
  {
   "cell_type": "code",
   "execution_count": null,
   "metadata": {
    "collapsed": true
   },
   "outputs": [],
   "source": []
  },
  {
   "cell_type": "code",
   "execution_count": null,
   "metadata": {
    "collapsed": true
   },
   "outputs": [],
   "source": []
  },
  {
   "cell_type": "code",
   "execution_count": null,
   "metadata": {
    "collapsed": true
   },
   "outputs": [],
   "source": []
  },
  {
   "cell_type": "code",
   "execution_count": null,
   "metadata": {
    "collapsed": true
   },
   "outputs": [],
   "source": []
  },
  {
   "cell_type": "code",
   "execution_count": null,
   "metadata": {
    "collapsed": true
   },
   "outputs": [],
   "source": []
  },
  {
   "cell_type": "code",
   "execution_count": 113,
   "metadata": {
    "collapsed": false
   },
   "outputs": [
    {
     "ename": "TypeError",
     "evalue": "'tuple' object is not callable",
     "output_type": "error",
     "traceback": [
      "\u001b[0;31m---------------------------------------------------------------------------\u001b[0m",
      "\u001b[0;31mTypeError\u001b[0m                                 Traceback (most recent call last)",
      "\u001b[0;32m<ipython-input-113-b101ab953940>\u001b[0m in \u001b[0;36m<module>\u001b[0;34m()\u001b[0m\n\u001b[0;32m----> 1\u001b[0;31m \u001b[0mtest\u001b[0m\u001b[0;34m.\u001b[0m\u001b[0mshape\u001b[0m\u001b[0;34m(\u001b[0m\u001b[0;34m)\u001b[0m\u001b[0;34m\u001b[0m\u001b[0m\n\u001b[0m",
      "\u001b[0;31mTypeError\u001b[0m: 'tuple' object is not callable"
     ]
    }
   ],
   "source": [
    "test.shape()"
   ]
  },
  {
   "cell_type": "code",
   "execution_count": null,
   "metadata": {
    "collapsed": true
   },
   "outputs": [],
   "source": []
  },
  {
   "cell_type": "code",
   "execution_count": null,
   "metadata": {
    "collapsed": true
   },
   "outputs": [],
   "source": []
  },
  {
   "cell_type": "code",
   "execution_count": 114,
   "metadata": {
    "collapsed": false
   },
   "outputs": [
    {
     "ename": "NameError",
     "evalue": "name 'indexOfPrice' is not defined",
     "output_type": "error",
     "traceback": [
      "\u001b[0;31m---------------------------------------------------------------------------\u001b[0m",
      "\u001b[0;31mNameError\u001b[0m                                 Traceback (most recent call last)",
      "\u001b[0;32m<ipython-input-114-20272427015a>\u001b[0m in \u001b[0;36m<module>\u001b[0;34m()\u001b[0m\n\u001b[0;32m----> 1\u001b[0;31m all_data = pd.concat((train.loc[:,-indexOfPrice],\n\u001b[0m\u001b[1;32m      2\u001b[0m                       test.loc[:,-indexOfPrice]))\n",
      "\u001b[0;31mNameError\u001b[0m: name 'indexOfPrice' is not defined"
     ]
    }
   ],
   "source": []
  },
  {
   "cell_type": "code",
   "execution_count": null,
   "metadata": {
    "collapsed": true
   },
   "outputs": [],
   "source": []
  },
  {
   "cell_type": "code",
   "execution_count": null,
   "metadata": {
    "collapsed": true
   },
   "outputs": [],
   "source": []
  },
  {
   "cell_type": "code",
   "execution_count": null,
   "metadata": {
    "collapsed": true
   },
   "outputs": [],
   "source": []
  },
  {
   "cell_type": "code",
   "execution_count": null,
   "metadata": {
    "collapsed": true
   },
   "outputs": [],
   "source": []
  },
  {
   "cell_type": "code",
   "execution_count": null,
   "metadata": {
    "collapsed": true
   },
   "outputs": [],
   "source": []
  },
  {
   "cell_type": "code",
   "execution_count": null,
   "metadata": {
    "collapsed": true
   },
   "outputs": [],
   "source": []
  },
  {
   "cell_type": "code",
   "execution_count": null,
   "metadata": {
    "collapsed": true
   },
   "outputs": [],
   "source": []
  },
  {
   "cell_type": "code",
   "execution_count": null,
   "metadata": {
    "collapsed": true
   },
   "outputs": [],
   "source": []
  },
  {
   "cell_type": "code",
   "execution_count": null,
   "metadata": {
    "collapsed": true
   },
   "outputs": [],
   "source": []
  },
  {
   "cell_type": "code",
   "execution_count": null,
   "metadata": {
    "collapsed": true
   },
   "outputs": [],
   "source": []
  },
  {
   "cell_type": "code",
   "execution_count": null,
   "metadata": {
    "collapsed": true
   },
   "outputs": [],
   "source": []
  },
  {
   "cell_type": "code",
   "execution_count": null,
   "metadata": {
    "collapsed": false
   },
   "outputs": [],
   "source": [
    "test['number_of_reviews'].describe()"
   ]
  },
  {
   "cell_type": "code",
   "execution_count": 6,
   "metadata": {
    "collapsed": false
   },
   "outputs": [],
   "source": [
    "# redata = open('./manhattan-dof.csv', \"r\")\n",
    "# csvReader = csv.reader(redata,delimiter=';')\n",
    "# next(csvReader)\n",
    "\n",
    "# X = np.array([r for r in csvReader])\n",
    "# X = X.astype(np.float)\n",
    "\n",
    "# tpca = PCA(n_components = 2)\n",
    "# Xp = tpca.fit_transform(X)\n",
    "# print(tpca.explained_variance_ratio_)\n",
    "\n",
    "# plt.figure(2)\n",
    "# plt.scatter(Xp[:,0], Xp[:,1])\n",
    "# plt.show()"
   ]
  },
  {
   "cell_type": "code",
   "execution_count": null,
   "metadata": {
    "collapsed": true
   },
   "outputs": [],
   "source": []
  }
 ],
 "metadata": {
  "anaconda-cloud": {},
  "kernelspec": {
   "display_name": "Python [conda root]",
   "language": "python",
   "name": "conda-root-py"
  },
  "language_info": {
   "codemirror_mode": {
    "name": "ipython",
    "version": 3
   },
   "file_extension": ".py",
   "mimetype": "text/x-python",
   "name": "python",
   "nbconvert_exporter": "python",
   "pygments_lexer": "ipython3",
   "version": "3.5.2"
  }
 },
 "nbformat": 4,
 "nbformat_minor": 1
}
